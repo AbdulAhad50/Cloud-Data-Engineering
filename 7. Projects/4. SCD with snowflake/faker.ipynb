{
 "cells": [
  {
   "cell_type": "code",
   "execution_count": 1,
   "id": "48245e9e",
   "metadata": {},
   "outputs": [
    {
     "name": "stdout",
     "output_type": "stream",
     "text": [
      "Requirement already satisfied: faker in c:\\users\\administrator\\appdata\\local\\programs\\python\\python310\\lib\\site-packages (37.11.0)\n",
      "Requirement already satisfied: tzdata in c:\\users\\administrator\\appdata\\local\\programs\\python\\python310\\lib\\site-packages (from faker) (2025.2)\n",
      "Note: you may need to restart the kernel to use updated packages.\n"
     ]
    },
    {
     "name": "stderr",
     "output_type": "stream",
     "text": [
      "\n",
      "[notice] A new release of pip is available: 24.3.1 -> 25.2\n",
      "[notice] To update, run: python.exe -m pip install --upgrade pip\n"
     ]
    }
   ],
   "source": [
    "%pip install faker"
   ]
  },
  {
   "cell_type": "code",
   "execution_count": null,
   "id": "af6f3418",
   "metadata": {},
   "outputs": [],
   "source": [
    "import os\n",
    "import csv\n",
    "from faker import Faker\n",
    "from datetime import datetime\n",
    "\n",
    "RECORD_COUNT = 10000\n",
    "fake = Faker()"
   ]
  },
  {
   "cell_type": "code",
   "execution_count": null,
   "id": "4cd7f5f5",
   "metadata": {},
   "outputs": [],
   "source": [
    "import os\n",
    "import csv\n",
    "from faker import Faker\n",
    "from datetime import datetime\n",
    "\n",
    "fake = Faker()\n",
    "current_time = datetime.now().strftime(\"%Y%m%d%H%M%S\")\n",
    "RECORD_COUNT = 1000"
   ]
  },
  {
   "cell_type": "code",
   "execution_count": null,
   "id": "c818719b",
   "metadata": {},
   "outputs": [],
   "source": [
    "def create_csv_file():\n",
    "    # ✅ Step 1: Ensure directory exists\n",
    "    os.makedirs('FakeDataset', exist_ok=True)\n",
    "\n",
    "    # ✅ Step 2: Create file inside folder\n",
    "    with open(f'FakeDataset/customer_{current_time}.csv', 'w', newline='') as csvfile:\n",
    "        fieldnames = [\"customer_id\", \"first_name\", \"last_name\", \"email\", \"street\",\n",
    "                      \"city\", \"state\", \"country\"]\n",
    "        writer = csv.DictWriter(csvfile, fieldnames=fieldnames)\n",
    "\n",
    "        writer.writeheader()\n",
    "        for i in range(RECORD_COUNT):\n",
    "            writer.writerow({\n",
    "                \"customer_id\": i,\n",
    "                \"first_name\": fake.first_name(),\n",
    "                \"last_name\": fake.last_name(),\n",
    "                \"email\": fake.email(),\n",
    "                \"street\": fake.street_address(),\n",
    "                \"city\": fake.city(),\n",
    "                \"state\": fake.state(),\n",
    "                \"country\": fake.country()\n",
    "            })\n",
    "\n",
    "# ✅ Run function\n",
    "create_csv_file()\n",
    "print(\"✅ CSV file created successfully!\")"
   ]
  }
 ],
 "metadata": {
  "kernelspec": {
   "display_name": "Python 3",
   "language": "python",
   "name": "python3"
  },
  "language_info": {
   "codemirror_mode": {
    "name": "ipython",
    "version": 3
   },
   "file_extension": ".py",
   "mimetype": "text/x-python",
   "name": "python",
   "nbconvert_exporter": "python",
   "pygments_lexer": "ipython3",
   "version": "3.10.9"
  }
 },
 "nbformat": 4,
 "nbformat_minor": 5
}
